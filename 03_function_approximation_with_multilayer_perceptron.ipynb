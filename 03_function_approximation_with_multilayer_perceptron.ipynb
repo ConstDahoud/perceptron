{
  "nbformat": 4,
  "nbformat_minor": 0,
  "metadata": {
    "colab": {
      "name": "03_function_approximation_with_multilayer_perceptron.ipynb",
      "provenance": [],
      "collapsed_sections": [],
      "authorship_tag": "ABX9TyOnUvH/0Mh+6H8AvEpieXUw",
      "include_colab_link": true
    },
    "kernelspec": {
      "name": "python3",
      "display_name": "Python 3"
    }
  },
  "cells": [
    {
      "cell_type": "markdown",
      "metadata": {
        "id": "view-in-github",
        "colab_type": "text"
      },
      "source": [
        "<a href=\"https://colab.research.google.com/github/ConstDahoud/perceptron/blob/main/03_function_approximation_with_multilayer_perceptron.ipynb\" target=\"_parent\"><img src=\"https://colab.research.google.com/assets/colab-badge.svg\" alt=\"Open In Colab\"/></a>"
      ]
    },
    {
      "cell_type": "markdown",
      "metadata": {
        "id": "CG5dFyVkoCk8"
      },
      "source": [
        "# Function approximation with multilayer perceptron"
      ]
    },
    {
      "cell_type": "markdown",
      "metadata": {
        "id": "ygqs2Knmnuc2"
      },
      "source": [
        "## Setup"
      ]
    },
    {
      "cell_type": "code",
      "metadata": {
        "id": "sDgAOrl1cGen"
      },
      "source": [
        "import sys\r\n",
        "assert sys.version_info >= (3, 6)\r\n",
        "\r\n",
        "import numpy as np\r\n",
        "import matplotlib.pyplot as plt"
      ],
      "execution_count": 1,
      "outputs": []
    },
    {
      "cell_type": "markdown",
      "metadata": {
        "id": "T30EwEaDnvDU"
      },
      "source": [
        "## Make a dataset"
      ]
    },
    {
      "cell_type": "code",
      "metadata": {
        "colab": {
          "base_uri": "https://localhost:8080/"
        },
        "id": "-K3BBRI1eSbo",
        "outputId": "13a11263-f8cd-4e94-ddcb-ee26d6d8797f"
      },
      "source": [
        "x_coordinates = np.arange(-2, 2, 0.01).reshape(400, 1)\r\n",
        "x_coordinates.shape"
      ],
      "execution_count": 2,
      "outputs": [
        {
          "output_type": "execute_result",
          "data": {
            "text/plain": [
              "(400, 1)"
            ]
          },
          "metadata": {
            "tags": []
          },
          "execution_count": 2
        }
      ]
    },
    {
      "cell_type": "markdown",
      "metadata": {
        "id": "V490iK5tnyJ7"
      },
      "source": [
        "## Define weights and bias"
      ]
    },
    {
      "cell_type": "code",
      "metadata": {
        "id": "dOcpf9KYiC3O"
      },
      "source": [
        "W1 = np.array([[10, 10]], float)    # (input neuron, output neurons)\r\n",
        "b1 = np.array([[-10, 10]], float)\r\n",
        "W2 = np.array([[1, 1]], float).transpose()\r\n",
        "b2 = np.array([[0]], float)"
      ],
      "execution_count": 3,
      "outputs": []
    },
    {
      "cell_type": "markdown",
      "metadata": {
        "id": "bMZh7xkan1PD"
      },
      "source": [
        "## Define activation functions"
      ]
    },
    {
      "cell_type": "code",
      "metadata": {
        "id": "SNUtKW5pjBbr"
      },
      "source": [
        "def activation_1(matrix):\r\n",
        "    return 1 / (1 + np.exp(-matrix))\r\n",
        "\r\n",
        "def activation_2(matrix):\r\n",
        "    return matrix"
      ],
      "execution_count": 4,
      "outputs": []
    },
    {
      "cell_type": "markdown",
      "metadata": {
        "id": "JAkKR0TOn4v7"
      },
      "source": [
        "## Forward pass"
      ]
    },
    {
      "cell_type": "code",
      "metadata": {
        "id": "RZ4_u-XBkLYk"
      },
      "source": [
        "layer_1 = activation_1(x_coordinates.dot(W1) + b1)\r\n",
        "outputs = activation_2(layer_1.dot(W2) + b2)"
      ],
      "execution_count": 5,
      "outputs": []
    },
    {
      "cell_type": "markdown",
      "metadata": {
        "id": "qHiEvHhen7iL"
      },
      "source": [
        "## Plot the outputs"
      ]
    },
    {
      "cell_type": "code",
      "metadata": {
        "colab": {
          "base_uri": "https://localhost:8080/",
          "height": 265
        },
        "id": "BnkRyeYZk2e2",
        "outputId": "932447a5-0c66-4e1c-a5f5-dd0aebf43773"
      },
      "source": [
        "plt.plot(x_coordinates.flatten(), outputs.flatten())\r\n",
        "plt.show()"
      ],
      "execution_count": 6,
      "outputs": [
        {
          "output_type": "display_data",
          "data": {
            "image/png": "[encoded data removed]",
            "text/plain": [
              "<Figure size 432x288 with 1 Axes>"
            ]
          },
          "metadata": {
            "tags": [],
            "needs_background": "light"
          }
        }
      ]
    }
  ]
}