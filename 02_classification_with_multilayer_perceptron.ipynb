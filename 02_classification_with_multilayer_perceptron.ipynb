{
  "nbformat": 4,
  "nbformat_minor": 0,
  "metadata": {
    "colab": {
      "name": "02_classification_with_multilayer_perceptron.ipynb",
      "provenance": [],
      "collapsed_sections": [],
      "authorship_tag": "ABX9TyPMWy669PFk0sfD1TbNf/KM",
      "include_colab_link": true
    },
    "kernelspec": {
      "name": "python3",
      "display_name": "Python 3"
    }
  },
  "cells": [
    {
      "cell_type": "markdown",
      "metadata": {
        "id": "view-in-github",
        "colab_type": "text"
      },
      "source": [
        "<a href=\"https://colab.research.google.com/github/ConstDahoud/perceptron/blob/main/02_classification_with_multilayer_perceptron.ipynb\" target=\"_parent\"><img src=\"https://colab.research.google.com/assets/colab-badge.svg\" alt=\"Open In Colab\"/></a>"
      ]
    },
    {
      "cell_type": "markdown",
      "metadata": {
        "id": "SoePPkWp2Zi_"
      },
      "source": [
        "# Classification with Multilayer perceptron\r\n"
      ]
    },
    {
      "cell_type": "markdown",
      "metadata": {
        "id": "qlsEdy4v1QEY"
      },
      "source": [
        "## Setup"
      ]
    },
    {
      "cell_type": "code",
      "metadata": {
        "id": "hbeNI3Da0tI2"
      },
      "source": [
        "import sys\r\n",
        "assert sys.version_info >= (3, 6)\r\n",
        "\r\n",
        "import numpy as np\r\n",
        "import matplotlib.pyplot as plt"
      ],
      "execution_count": null,
      "outputs": []
    },
    {
      "cell_type": "markdown",
      "metadata": {
        "id": "8pVvBuS81mf9"
      },
      "source": [
        "## Make a Dataset"
      ]
    },
    {
      "cell_type": "code",
      "metadata": {
        "colab": {
          "base_uri": "https://localhost:8080/"
        },
        "id": "3Pw48jMm2OpS",
        "outputId": "24cac0f0-08c3-49b2-f3b1-967305d8f5bb"
      },
      "source": [
        "input_coordinates = np.array([(x/10, y/10) for x in range(50) for y in range(30)])\r\n",
        "input_coordinates.shape    # (n_smaples, n_input_neurons)"
      ],
      "execution_count": null,
      "outputs": [
        {
          "output_type": "execute_result",
          "data": {
            "text/plain": [
              "(1500, 2)"
            ]
          },
          "metadata": {
            "tags": []
          },
          "execution_count": 2
        }
      ]
    },
    {
      "cell_type": "markdown",
      "metadata": {
        "id": "kc4CQ7P41ric"
      },
      "source": [
        "## Define weights and bias"
      ]
    },
    {
      "cell_type": "code",
      "metadata": {
        "id": "6fxFpV2jCzDL"
      },
      "source": [
        "W1 = np.array([[1, -1, 1, -1, 1, -1, 1, -1, -1, 1, 1],\r\n",
        "               [1, -1, -1, 1, -1, 1, -1, 1, -1, 1, 1]]\r\n",
        "              , float)\r\n",
        "b1 = np.array([[-2, 3, 0.5, 0.5, -1.75, 2.25, -3.25, 3.75, 6.25, -5.75, -4.75]]\r\n",
        "              , float)\r\n",
        "\r\n",
        "W2 = np.array([[1, 1, 1, 1, 0, 0, 0, 0, 0, 0, 0],\r\n",
        "               [0, 0, 0, 0, 1, 1, 0, 0, 1, 0, 1],\r\n",
        "               [0, 0, 0, 0, 1, 0, 0, 1, 1, 1, 0],\r\n",
        "               [0, 0, 0, 0, 0, 0, 1, 1, 1, 0, 1]]\r\n",
        "              , float).transpose()\r\n",
        "b2 = np.array([[-3, -3, -3, -3]], float)\r\n",
        "\r\n",
        "W3 = np.array([[1, 1, 1, 1]], float).transpose()\r\n",
        "b3 = np.array([[3]], float)"
      ],
      "execution_count": null,
      "outputs": []
    },
    {
      "cell_type": "markdown",
      "metadata": {
        "id": "cAfsnpLb17bd"
      },
      "source": [
        "## Define activation function"
      ]
    },
    {
      "cell_type": "code",
      "metadata": {
        "id": "z7lVOTR5Esjr"
      },
      "source": [
        "def activation(matrix):\r\n",
        "    return ((1 * (matrix >= 0)) + (-1 * (matrix < 0)))"
      ],
      "execution_count": null,
      "outputs": []
    },
    {
      "cell_type": "markdown",
      "metadata": {
        "id": "sWro-1jt1_Vg"
      },
      "source": [
        "## Forward pass"
      ]
    },
    {
      "cell_type": "code",
      "metadata": {
        "colab": {
          "base_uri": "https://localhost:8080/"
        },
        "id": "ovcOApVv84uM",
        "outputId": "2e1d695a-f5c5-419c-bf90-37c0d6efed20"
      },
      "source": [
        "layer1 = activation(input_coordinates.dot(W1) + b1)    # ((1500, 2) @ (2, 11)) + (1500, 11) = (1500, 11)\r\n",
        "layer2 = activation(layer1.dot(W2) + b2)    # ((1500, 11) @ (11, 4)) + (1500, 4) = (1500, 4)\r\n",
        "outputs = activation(layer2.dot(W3) + b3)    # ((1500, 4) @ (4, 1)) + (1500, 1) = (1500, 1)\r\n",
        "outputs.shape"
      ],
      "execution_count": null,
      "outputs": [
        {
          "output_type": "execute_result",
          "data": {
            "text/plain": [
              "(1500, 1)"
            ]
          },
          "metadata": {
            "tags": []
          },
          "execution_count": 5
        }
      ]
    },
    {
      "cell_type": "markdown",
      "metadata": {
        "id": "t-t2mewO2Hqy"
      },
      "source": [
        "## Plot the outputs"
      ]
    },
    {
      "cell_type": "code",
      "metadata": {
        "colab": {
          "base_uri": "https://localhost:8080/",
          "height": 266
        },
        "id": "b2l3h4UNwWL2",
        "outputId": "1f0adc28-d6bc-4b83-8eec-8f783a8d85bc"
      },
      "source": [
        "for index, result in enumerate(outputs.flat):\r\n",
        "    x, y = input_coordinates[index]\r\n",
        "    if result == 1:\r\n",
        "        plt.plot(x, y, 'o', mec='k', mfc='k', ms=8)\r\n",
        "    else:\r\n",
        "        plt.plot(x, y, 'o', mec='k', mfc='w', ms= 8)"
      ],
      "execution_count": null,
      "outputs": [
        {
          "output_type": "display_data",
          "data": {
            "image/png": "[encoded data removed]",
            "text/plain": [
              "<Figure size 432x288 with 1 Axes>"
            ]
          },
          "metadata": {
            "tags": [],
            "needs_background": "light"
          }
        }
      ]
    }
  ]
}