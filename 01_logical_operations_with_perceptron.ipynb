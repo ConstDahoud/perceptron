{
  "nbformat": 4,
  "nbformat_minor": 0,
  "metadata": {
    "colab": {
      "name": "01_logical_operations_with_perceptron.ipynb",
      "provenance": [],
      "collapsed_sections": [],
      "authorship_tag": "ABX9TyOBUJrLWkh7FaJkYWMmvFEF",
      "include_colab_link": true
    },
    "kernelspec": {
      "name": "python3",
      "display_name": "Python 3"
    }
  },
  "cells": [
    {
      "cell_type": "markdown",
      "metadata": {
        "id": "view-in-github",
        "colab_type": "text"
      },
      "source": [
        "<a href=\"https://colab.research.google.com/github/ConstDahoud/perceptron/blob/main/01_logical_operations_with_perceptron.ipynb\" target=\"_parent\"><img src=\"https://colab.research.google.com/assets/colab-badge.svg\" alt=\"Open In Colab\"/></a>"
      ]
    },
    {
      "cell_type": "markdown",
      "metadata": {
        "id": "Mx8V1l8B2JD9"
      },
      "source": [
        "# Logical operations with perceptron"
      ]
    },
    {
      "cell_type": "code",
      "metadata": {
        "id": "Y683wzVb5gR4"
      },
      "source": [
        "import sys\r\n",
        "assert sys.version_info >= (3, 6)"
      ],
      "execution_count": null,
      "outputs": []
    },
    {
      "cell_type": "code",
      "metadata": {
        "id": "0nbEOQm4rq4E"
      },
      "source": [
        "import numpy as np"
      ],
      "execution_count": null,
      "outputs": []
    },
    {
      "cell_type": "markdown",
      "metadata": {
        "id": "ZhPXh3fx1xsw"
      },
      "source": [
        "## Define Heaviside step function\r\n",
        "\r\n",
        "\r\n",
        "\r\n",
        "\r\n"
      ]
    },
    {
      "cell_type": "code",
      "metadata": {
        "id": "81d4O7uM8FaZ"
      },
      "source": [
        "def heaviside(z):\r\n",
        "    if z > 0:\r\n",
        "        return 1\r\n",
        "    else:\r\n",
        "        return 0"
      ],
      "execution_count": null,
      "outputs": []
    },
    {
      "cell_type": "markdown",
      "metadata": {
        "id": "Nv0WvVVd1-UU"
      },
      "source": [
        "## Define reversed_neuron function"
      ]
    },
    {
      "cell_type": "code",
      "metadata": {
        "id": "uXda-qEJtkg0"
      },
      "source": [
        "def reversed_neuron(x):\r\n",
        "    if x == 0:\r\n",
        "        return 1\r\n",
        "    else:\r\n",
        "        return 0"
      ],
      "execution_count": null,
      "outputs": []
    },
    {
      "cell_type": "markdown",
      "metadata": {
        "id": "AWrg5Pww3pHv"
      },
      "source": [
        "## Make IDENTITY operation with perceptron"
      ]
    },
    {
      "cell_type": "code",
      "metadata": {
        "colab": {
          "base_uri": "https://localhost:8080/"
        },
        "id": "t8sIIFrFh6rD",
        "outputId": "c4640982-c1d9-4a3c-aacd-866fb7b5efc1"
      },
      "source": [
        "def IDENTITY(x):\r\n",
        "    X = np.array([x, x])\r\n",
        "    W_ = np.array([0.5, 0.5])\r\n",
        "    W = W_.reshape(2, 1)    # (input neuron X output neuron)\r\n",
        "    b = 0\r\n",
        "    the_resulting_weighted_sum = X.dot(W) + b\r\n",
        "    output = heaviside(the_resulting_weighted_sum)\r\n",
        "    return output\r\n",
        "\r\n",
        "coordinates = [0, 1]\r\n",
        "for x in coordinates:\r\n",
        "    output = IDENTITY(x)\r\n",
        "    print(f'{x} -> {output}')"
      ],
      "execution_count": null,
      "outputs": [
        {
          "output_type": "stream",
          "text": [
            "0 -> 0\n",
            "1 -> 1\n"
          ],
          "name": "stdout"
        }
      ]
    },
    {
      "cell_type": "markdown",
      "metadata": {
        "id": "OuQ3gsm934KX"
      },
      "source": [
        "## Make AND operation with perceptron"
      ]
    },
    {
      "cell_type": "code",
      "metadata": {
        "id": "DSYf-zwUsGxX",
        "colab": {
          "base_uri": "https://localhost:8080/"
        },
        "outputId": "47e6925a-5bd0-4bcb-f109-b5bad4e86532"
      },
      "source": [
        "def AND(x1, x2):\r\n",
        "    X = np.array([x1, x2])\r\n",
        "    W_ = np.array([0.5, 0.5])\r\n",
        "    W = W_.reshape(2, 1)    # (input neuron X output neuron)\r\n",
        "    b = -0.7\r\n",
        "    the_resulting_weighted_sum = X.dot(W) + b\r\n",
        "    output = heaviside(the_resulting_weighted_sum)\r\n",
        "    return output\r\n",
        "\r\n",
        "coordinates = [(0, 0), (0, 1), (1, 0), (1, 1)]\r\n",
        "for x1, x2 in coordinates:\r\n",
        "    output = AND(x1, x2)\r\n",
        "    print(f'({x1}, {x2}) -> {output}')"
      ],
      "execution_count": null,
      "outputs": [
        {
          "output_type": "stream",
          "text": [
            "(0, 0) -> 0\n",
            "(0, 1) -> 0\n",
            "(1, 0) -> 0\n",
            "(1, 1) -> 1\n"
          ],
          "name": "stdout"
        }
      ]
    },
    {
      "cell_type": "markdown",
      "metadata": {
        "id": "nEOu64UF36Xw"
      },
      "source": [
        "## Make OR operation with perceptron"
      ]
    },
    {
      "cell_type": "code",
      "metadata": {
        "colab": {
          "base_uri": "https://localhost:8080/"
        },
        "id": "Wv364rtpknne",
        "outputId": "0205bee2-748c-4f7e-bc27-950aa52e9c8b"
      },
      "source": [
        "def OR(x1, x2):\r\n",
        "    X = np.array([x1, x2])\r\n",
        "    W_ = np.array([0.5, 0.5])\r\n",
        "    W = W_.reshape(2, 1)    # (input neuron X output neuron)\r\n",
        "    b = -0.4\r\n",
        "    the_resulting_weighted_sum = X.dot(W) + b\r\n",
        "    output = heaviside(the_resulting_weighted_sum)\r\n",
        "    return output\r\n",
        "\r\n",
        "coordinates = [(0, 0), (0, 1), (1, 0), (1, 1)]\r\n",
        "for x1, x2 in coordinates:\r\n",
        "    output = OR(x1, x2)\r\n",
        "    print(f'({x1}, {x2}) -> {output}')"
      ],
      "execution_count": null,
      "outputs": [
        {
          "output_type": "stream",
          "text": [
            "(0, 0) -> 0\n",
            "(0, 1) -> 1\n",
            "(1, 0) -> 1\n",
            "(1, 1) -> 1\n"
          ],
          "name": "stdout"
        }
      ]
    },
    {
      "cell_type": "markdown",
      "metadata": {
        "id": "5cEUCAfi38yP"
      },
      "source": [
        "## Make NAND operation with perceptron"
      ]
    },
    {
      "cell_type": "code",
      "metadata": {
        "colab": {
          "base_uri": "https://localhost:8080/"
        },
        "id": "E_MbndNrmcJM",
        "outputId": "3091be3b-ef33-412e-ddfa-cef75fc1c384"
      },
      "source": [
        "def NAND(x1, x2):\r\n",
        "    X = np.array([x1, x2])\r\n",
        "    W_ = np.array([-0.5, -0.5])\r\n",
        "    W = W_.reshape(2, 1)    # (input neuron X output neuron)\r\n",
        "    b = 0.6\r\n",
        "    the_resulting_weighted_sum = X.dot(W) + b\r\n",
        "    output = heaviside(the_resulting_weighted_sum)\r\n",
        "    return output\r\n",
        "\r\n",
        "coordinates = [(0, 0), (0, 1), (1, 0), (1, 1)]\r\n",
        "for x1, x2 in coordinates:\r\n",
        "    output = NAND(x1, x2)\r\n",
        "    print(f'({x1}, {x2}) -> {output}')"
      ],
      "execution_count": null,
      "outputs": [
        {
          "output_type": "stream",
          "text": [
            "(0, 0) -> 1\n",
            "(0, 1) -> 1\n",
            "(1, 0) -> 1\n",
            "(1, 1) -> 0\n"
          ],
          "name": "stdout"
        }
      ]
    },
    {
      "cell_type": "markdown",
      "metadata": {
        "id": "qs7fQ_Mo3_Qw"
      },
      "source": [
        "## Make AND_with_one_reversed_neuron operation with perceptron"
      ]
    },
    {
      "cell_type": "code",
      "metadata": {
        "colab": {
          "base_uri": "https://localhost:8080/"
        },
        "id": "kCEE4G6-oFjT",
        "outputId": "52ac7c13-a502-4bb1-9035-00947d3f91d2"
      },
      "source": [
        "def AND_with_one_reversed_neuron(x1, x2):\r\n",
        "    x2 = reversed_neuron(x2)\r\n",
        "    X = np.array([x1, x2])\r\n",
        "    W_ = np.array([0.5, 0.5])\r\n",
        "    W = W_.reshape(2, 1)    # # (input neuron X output neuron)\r\n",
        "    b = -0.6\r\n",
        "    the_resulting_weighted_sum = X.dot(W) + b\r\n",
        "    output = heaviside(the_resulting_weighted_sum)\r\n",
        "    return output\r\n",
        "\r\n",
        "coordinates = [(0, 0), (0, 1), (1, 0), (1, 1)]\r\n",
        "for x1, x2 in coordinates:\r\n",
        "    output = AND_with_one_reversed_neuron(x1, x2)\r\n",
        "    print(f'({x1}, {x2}) -> {output}')"
      ],
      "execution_count": null,
      "outputs": [
        {
          "output_type": "stream",
          "text": [
            "(0, 0) -> 0\n",
            "(0, 1) -> 0\n",
            "(1, 0) -> 1\n",
            "(1, 1) -> 0\n"
          ],
          "name": "stdout"
        }
      ]
    },
    {
      "cell_type": "markdown",
      "metadata": {
        "id": "rl2GJ3FG4IJw"
      },
      "source": [
        "## Make XOR operation with a MultiLayer Perceptron(MLP)"
      ]
    },
    {
      "cell_type": "code",
      "metadata": {
        "colab": {
          "base_uri": "https://localhost:8080/"
        },
        "id": "WlBjX9T6tUqd",
        "outputId": "9083de7f-3b15-4134-e04f-3bde5843e450"
      },
      "source": [
        "def XOR(x1, x2):\r\n",
        "    L11 = NAND(x1, x2)\r\n",
        "    L12 = OR(x1, x2)\r\n",
        "    L2 = AND(L11, L12)\r\n",
        "    return L2\r\n",
        "\r\n",
        "coordinates = [(0, 0), (0, 1), (1, 0), (1, 1)]\r\n",
        "for x1, x2 in coordinates:\r\n",
        "    output = XOR(x1, x2)\r\n",
        "    print(f'({x1}, {x2}) -> {output}')"
      ],
      "execution_count": null,
      "outputs": [
        {
          "output_type": "stream",
          "text": [
            "(0, 0) -> 0\n",
            "(0, 1) -> 1\n",
            "(1, 0) -> 1\n",
            "(1, 1) -> 0\n"
          ],
          "name": "stdout"
        }
      ]
    }
  ]
}